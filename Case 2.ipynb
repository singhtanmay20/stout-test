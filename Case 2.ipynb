{
 "cells": [
  {
   "cell_type": "code",
   "execution_count": 1,
   "metadata": {},
   "outputs": [
    {
     "name": "stdout",
     "output_type": "stream",
     "text": [
      "        Unnamed: 0         customer_email  net_revenue  year\n",
      "685922      685922   qzqttwiftu@gmail.com       184.58  2017\n",
      "685923      685923   pjodiifjop@gmail.com       133.03  2017\n",
      "685924      685924   appaplmgko@gmail.com       200.98  2017\n",
      "685925      685925   wvkpmwsgck@gmail.com       235.35  2017\n",
      "685926      685926   aregboumbw@gmail.com       208.43  2017\n"
     ]
    }
   ],
   "source": [
    "import pandas as pd\n",
    "fund = pd.read_csv('casestudy.csv')\n",
    "print(fund.tail())"
   ]
  },
  {
   "cell_type": "markdown",
   "metadata": {},
   "source": [
    "\n",
    "# Assuming Current Year as 2017"
   ]
  },
  {
   "cell_type": "code",
   "execution_count": 13,
   "metadata": {},
   "outputs": [],
   "source": [
    "current_year=2017"
   ]
  },
  {
   "cell_type": "markdown",
   "metadata": {},
   "source": [
    "# Total Revenue For Current Year"
   ]
  },
  {
   "cell_type": "markdown",
   "metadata": {},
   "source": [
    "The total revenue for current year is calculated by grouping the original dataset by year and taking the sum of \n",
    "net revenue."
   ]
  },
  {
   "cell_type": "code",
   "execution_count": 122,
   "metadata": {},
   "outputs": [
    {
     "name": "stdout",
     "output_type": "stream",
     "text": [
      "total revenue in year 2017:31417495.02999995\n"
     ]
    }
   ],
   "source": [
    "total_revenue=fund.groupby('year')[['net_revenue']].sum()\n",
    "total_revenue=total_revenue.loc[current_year]\n",
    "print('total revenue in year '+str(current_year)+':'+str(total_revenue['net_revenue']))"
   ]
  },
  {
   "cell_type": "markdown",
   "metadata": {},
   "source": [
    "# New Customers Revenue"
   ]
  },
  {
   "cell_type": "markdown",
   "metadata": {},
   "source": [
    "The new customers revenue is calculated by doing a left join on customers_email of rows of original datasets seperated by current \n",
    "and prev year and then using the join to select customers present only in current year since they were not present\n",
    "in the previous year."
   ]
  },
  {
   "cell_type": "code",
   "execution_count": 123,
   "metadata": {},
   "outputs": [
    {
     "name": "stdout",
     "output_type": "stream",
     "text": [
      "New customers revenue in year 2017:28776235.039999995\n"
     ]
    }
   ],
   "source": [
    "row_prev=fund.loc[fund['year']==current_year-1]\n",
    "row_curr=fund.loc[fund['year']==current_year]\n",
    "merged = row_curr.merge(row_prev, how='left',on='customer_email', indicator=True)\n",
    "merged=merged[merged['_merge']=='left_only']\n",
    "new_customer_revenue=merged[['net_revenue_x']].sum()\n",
    "print('New customers revenue in year '+str(current_year)+':'+str(new_customer_revenue['net_revenue_x']))"
   ]
  },
  {
   "cell_type": "markdown",
   "metadata": {},
   "source": [
    "# Existing Customers Growth"
   ]
  },
  {
   "cell_type": "markdown",
   "metadata": {},
   "source": [
    "The Existing customers growth is calculated by doing a left join on customers_email on rows of original datasets seperated by current and prev year and then select rows present in both. Then we use the join to select sum of net revenues based on current year and previous year. after this we subtract the previous revenue by current to get the growth."
   ]
  },
  {
   "cell_type": "code",
   "execution_count": 125,
   "metadata": {},
   "outputs": [
    {
     "name": "stdout",
     "output_type": "stream",
     "text": [
      "Existing customers growth in year 2017:20611.340000000317\n"
     ]
    }
   ],
   "source": [
    "row_prev=fund.loc[fund['year']==current_year-1]\n",
    " \n",
    "row_curr=fund.loc[fund['year']==current_year]\n",
    "\n",
    "merged = row_curr.merge(row_prev, how='left',on='customer_email', indicator=True)\n",
    "merged=merged[merged['_merge']=='both']\n",
    "revenue_existing_prev=merged[['net_revenue_y']].sum()\n",
    "revenue_existing_prev\n",
    "revenue_existing_curr=merged[['net_revenue_x']].sum()\n",
    "revenue_existing_curr\n",
    "existing_customer_growth=revenue_existing_curr['net_revenue_x']-revenue_existing_prev['net_revenue_y']\n",
    "print('Existing customers growth in year '+str(current_year)+':'+str(existing_customer_growth))"
   ]
  },
  {
   "cell_type": "markdown",
   "metadata": {},
   "source": [
    "\n",
    "# Revenue Lost from Attrition"
   ]
  },
  {
   "cell_type": "markdown",
   "metadata": {},
   "source": [
    "The revenue lost from attrition is calculated by doing a right join on customers_email on rows of original datasets seperated by current and prev year and then select rows present ionly in previous year. By taking the sum of net revenue we the loss. since this customers are not present in current year."
   ]
  },
  {
   "cell_type": "code",
   "execution_count": 132,
   "metadata": {},
   "outputs": [
    {
     "name": "stdout",
     "output_type": "stream",
     "text": [
      "Revenue lost from attrition in year 2017:25730943.590000004\n"
     ]
    }
   ],
   "source": [
    "row_prev=fund.loc[fund['year']==current_year-1]\n",
    "row_curr=fund.loc[fund['year']==current_year]\n",
    "merged = row_curr.merge(row_prev, how='right',on='customer_email', indicator=True)\n",
    "revenue_lost_due_to_attrition=merged[['net_revenue_y']].sum()\n",
    "revenue_lost_due_to_attritionmerged=merged[merged['_merge']=='right_only']\n",
    "revenue_lost_due_to_attrition=merged[['net_revenue_y']].sum()\n",
    "print('Revenue lost from attrition in year '+str(current_year)+':'+str(revenue_lost_due_to_attrition['net_revenue_y']))"
   ]
  },
  {
   "cell_type": "markdown",
   "metadata": {},
   "source": [
    "# Existing Customer Revenue Current Year"
   ]
  },
  {
   "cell_type": "markdown",
   "metadata": {},
   "source": [
    "The existing customer revenue in current year is calculated by doing a left join on customers_email on rows of original datasets seperated by current and prev year and then selecting rows present in both the years. by taking the sum of revenue of customers present in current year we get the desired result."
   ]
  },
  {
   "cell_type": "code",
   "execution_count": 133,
   "metadata": {},
   "outputs": [
    {
     "name": "stdout",
     "output_type": "stream",
     "text": [
      "Existing customer revenue in year 2017:2641259.99\n"
     ]
    }
   ],
   "source": [
    "row_prev=fund.loc[fund['year']==current_year-1]\n",
    "row_curr=fund.loc[fund['year']==current_year]\n",
    "merged = row_curr.merge(row_prev, how='left',on='customer_email', indicator=True)\n",
    "merged=merged[merged['_merge']=='both']\n",
    "existing_customer_revenue_current=merged[['net_revenue_x']].sum()\n",
    "print('Existing customer revenue in year '+str(current_year)+':'+str(existing_customer_revenue_current['net_revenue_x']))"
   ]
  },
  {
   "cell_type": "markdown",
   "metadata": {},
   "source": [
    "# Existing Customer Revenue Prior Year"
   ]
  },
  {
   "cell_type": "markdown",
   "metadata": {},
   "source": [
    "The existing customer revenue in prior year is calculated by doing a left join on customers_email on rows of original datasets seperated by current and prev year and then selecting rows present in both the years. by taking the sum of revenue of customers present in prior year we get the desired result."
   ]
  },
  {
   "cell_type": "code",
   "execution_count": 134,
   "metadata": {},
   "outputs": [
    {
     "name": "stdout",
     "output_type": "stream",
     "text": [
      "Existing customer revenue in year 2016:2620648.65\n"
     ]
    }
   ],
   "source": [
    "row_prev=fund.loc[fund['year']==current_year-1]\n",
    "row_curr=fund.loc[fund['year']==current_year]\n",
    "merged = row_curr.merge(row_prev, how='left',on='customer_email', indicator=True)\n",
    "merged=merged[merged['_merge']=='both']\n",
    "existing_customer_revenue_prior=merged[['net_revenue_y']].sum()\n",
    "print('Existing customer revenue in year '+str(current_year-1)+':'+str(existing_customer_revenue_prior['net_revenue_y']))"
   ]
  },
  {
   "cell_type": "markdown",
   "metadata": {},
   "source": [
    "# Total Customers Current Year"
   ]
  },
  {
   "cell_type": "markdown",
   "metadata": {},
   "source": [
    "The total customers in current year is calculated by grouping the original dataset by year and taking a count of net revenue present in current year."
   ]
  },
  {
   "cell_type": "code",
   "execution_count": 105,
   "metadata": {},
   "outputs": [
    {
     "name": "stdout",
     "output_type": "stream",
     "text": [
      "Total Customers in Year 2017:249987\n"
     ]
    }
   ],
   "source": [
    "total_customers_current=fund.groupby('year')[['net_revenue']].count()\n",
    "total_customers_current=total_customers_current.loc[current_year]\n",
    "print('Total Customers in Year '+str(current_year) +':'+str(total_customers_current['net_revenue']))"
   ]
  },
  {
   "cell_type": "markdown",
   "metadata": {},
   "source": [
    "# Total Customers Previous Year"
   ]
  },
  {
   "cell_type": "markdown",
   "metadata": {},
   "source": [
    "The total customers in previous year is calculated by grouping the original dataset by year and taking a count of net revenue present in previous year."
   ]
  },
  {
   "cell_type": "code",
   "execution_count": 106,
   "metadata": {},
   "outputs": [
    {
     "name": "stdout",
     "output_type": "stream",
     "text": [
      "Total Customers in Year 2016:204646\n"
     ]
    }
   ],
   "source": [
    "total_customers_prev=fund.groupby('year')[['net_revenue']].count()\n",
    "total_customers_prev=total_customers_prev.loc[current_year-1]\n",
    "print('Total Customers in Year '+str(current_year-1) +':'+str(total_customers_prev['net_revenue']))"
   ]
  },
  {
   "cell_type": "markdown",
   "metadata": {},
   "source": [
    "# Total New Customers"
   ]
  },
  {
   "cell_type": "markdown",
   "metadata": {},
   "source": [
    "total new customers in current year is calculated by doing a left join on customers_email on rows of original datasets seperated by current and prev year and then selecting rows present only in current year. by doing a count of all the rows present we get the total number of new customers"
   ]
  },
  {
   "cell_type": "code",
   "execution_count": 135,
   "metadata": {},
   "outputs": [
    {
     "name": "stdout",
     "output_type": "stream",
     "text": [
      "total new customers in 2017: 229028\n"
     ]
    }
   ],
   "source": [
    "row_prev=fund.loc[fund['year']==current_year-1]\n",
    "row_curr=fund.loc[fund['year']==current_year]\n",
    "merged = row_curr.merge(row_prev, how='left',on='customer_email', indicator=True)\n",
    "merged\n",
    "merged=merged[merged['_merge']=='left_only']\n",
    "total_new_customers=merged[['customer_email']].count()\n",
    "print(\"total new customers in \"+str(current_year)+\": \"+str(total_new_customers['customer_email']))"
   ]
  },
  {
   "cell_type": "markdown",
   "metadata": {},
   "source": [
    "# Total Lost Customers"
   ]
  },
  {
   "cell_type": "markdown",
   "metadata": {},
   "source": [
    "total lost customers in current year is calculated by doing a right join on customers_email on rows of original datasets seperated by current and prev year and then selecting rows present only in previous year. by doing a count of all the rows present we get the total number of lost customers"
   ]
  },
  {
   "cell_type": "code",
   "execution_count": 136,
   "metadata": {},
   "outputs": [
    {
     "name": "stdout",
     "output_type": "stream",
     "text": [
      "total lost customers in 2017: 183687\n"
     ]
    }
   ],
   "source": [
    "row_prev=fund.loc[fund['year']==current_year-1]\n",
    "row_curr=fund.loc[fund['year']==current_year]\n",
    "merged = row_curr.merge(row_prev, how='right',on='customer_email', indicator=True)\n",
    "merged\n",
    "merged=merged[merged['_merge']=='right_only']\n",
    "total_lost_customers=merged[['customer_email']].count()\n",
    "print(\"total lost customers in \"+str(current_year)+\": \"+str(total_lost_customers['customer_email']))"
   ]
  },
  {
   "cell_type": "code",
   "execution_count": null,
   "metadata": {},
   "outputs": [],
   "source": []
  }
 ],
 "metadata": {
  "kernelspec": {
   "display_name": "Python 3",
   "language": "python",
   "name": "python3"
  },
  "language_info": {
   "codemirror_mode": {
    "name": "ipython",
    "version": 3
   },
   "file_extension": ".py",
   "mimetype": "text/x-python",
   "name": "python",
   "nbconvert_exporter": "python",
   "pygments_lexer": "ipython3",
   "version": "3.5.2"
  }
 },
 "nbformat": 4,
 "nbformat_minor": 2
}
