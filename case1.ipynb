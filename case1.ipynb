{
 "cells": [
  {
   "cell_type": "code",
   "execution_count": 1,
   "metadata": {},
   "outputs": [
    {
     "name": "stdout",
     "output_type": "stream",
     "text": [
      "         step      type      amount     nameOrig  oldbalanceOrg  \\\n",
      "6362615   743  CASH_OUT   339682.13   C786484425      339682.13   \n",
      "6362616   743  TRANSFER  6311409.28  C1529008245     6311409.28   \n",
      "6362617   743  CASH_OUT  6311409.28  C1162922333     6311409.28   \n",
      "6362618   743  TRANSFER   850002.52  C1685995037      850002.52   \n",
      "6362619   743  CASH_OUT   850002.52  C1280323807      850002.52   \n",
      "\n",
      "         newbalanceOrig     nameDest  oldbalanceDest  newbalanceDest  isFraud  \\\n",
      "6362615             0.0   C776919290            0.00       339682.13        1   \n",
      "6362616             0.0  C1881841831            0.00            0.00        1   \n",
      "6362617             0.0  C1365125890        68488.84      6379898.11        1   \n",
      "6362618             0.0  C2080388513            0.00            0.00        1   \n",
      "6362619             0.0   C873221189      6510099.11      7360101.63        1   \n",
      "\n",
      "         isFlaggedFraud  \n",
      "6362615               0  \n",
      "6362616               0  \n",
      "6362617               0  \n",
      "6362618               0  \n",
      "6362619               0  \n"
     ]
    }
   ],
   "source": [
    "import pandas as pd\n",
    "fund = pd.read_csv('PS_20174392719_1491204439457_log.csv')\n",
    "print(fund.tail())"
   ]
  },
  {
   "cell_type": "markdown",
   "metadata": {},
   "source": [
    "The dataset is being used to predict if a transaction which is happening may be a fraud. This is shown is the dataset by using column isFraud which has values either 0 or 1 for fraud and no fraud. So this means we will have two classes. In this dataset there are columns with string as values because of which we will have to pre-process it before running it through a prediction model. Other than this most of the attributes are of type float."
   ]
  },
  {
   "cell_type": "code",
   "execution_count": 16,
   "metadata": {},
   "outputs": [
    {
     "data": {
      "text/html": [
       "<div>\n",
       "<style scoped>\n",
       "    .dataframe tbody tr th:only-of-type {\n",
       "        vertical-align: middle;\n",
       "    }\n",
       "\n",
       "    .dataframe tbody tr th {\n",
       "        vertical-align: top;\n",
       "    }\n",
       "\n",
       "    .dataframe thead th {\n",
       "        text-align: right;\n",
       "    }\n",
       "</style>\n",
       "<table border=\"1\" class=\"dataframe\">\n",
       "  <thead>\n",
       "    <tr style=\"text-align: right;\">\n",
       "      <th></th>\n",
       "      <th>frequency_of_types</th>\n",
       "    </tr>\n",
       "    <tr>\n",
       "      <th>type</th>\n",
       "      <th></th>\n",
       "    </tr>\n",
       "  </thead>\n",
       "  <tbody>\n",
       "    <tr>\n",
       "      <th>CASH_IN</th>\n",
       "      <td>1399284</td>\n",
       "    </tr>\n",
       "    <tr>\n",
       "      <th>CASH_OUT</th>\n",
       "      <td>2237500</td>\n",
       "    </tr>\n",
       "    <tr>\n",
       "      <th>DEBIT</th>\n",
       "      <td>41432</td>\n",
       "    </tr>\n",
       "    <tr>\n",
       "      <th>PAYMENT</th>\n",
       "      <td>2151495</td>\n",
       "    </tr>\n",
       "    <tr>\n",
       "      <th>TRANSFER</th>\n",
       "      <td>532909</td>\n",
       "    </tr>\n",
       "  </tbody>\n",
       "</table>\n",
       "</div>"
      ],
      "text/plain": [
       "          frequency_of_types\n",
       "type                        \n",
       "CASH_IN              1399284\n",
       "CASH_OUT             2237500\n",
       "DEBIT                  41432\n",
       "PAYMENT              2151495\n",
       "TRANSFER              532909"
      ]
     },
     "execution_count": 16,
     "metadata": {},
     "output_type": "execute_result"
    }
   ],
   "source": [
    "freq_type=fund.groupby('type')[['amount']].count()  ##frequency of transaction based on types\n",
    "freq_type.columns=['frequency_of_types']\n",
    "freq_type"
   ]
  },
  {
   "cell_type": "markdown",
   "metadata": {},
   "source": [
    "In the below plot we can see that majority of transaction are of type CASH_OUT and Payment with Debit being the least frequently used type"
   ]
  },
  {
   "cell_type": "code",
   "execution_count": 25,
   "metadata": {},
   "outputs": [
    {
     "data": {
      "image/png": "[encoded data removed]",
      "text/plain": [
       "<Figure size 864x576 with 1 Axes>"
      ]
     },
     "metadata": {},
     "output_type": "display_data"
    }
   ],
   "source": [
    "pie_plot=freq_type.plot.pie(y='frequency_of_types', figsize=(12, 8))\n",
    "pie_plot.legend(loc=\"upper right\")\n",
    "pie_plot.figure.savefig(\"frequency_of_types.jpg\")\n",
    "## This plot shows the frequency with which each type of transaction is used"
   ]
  },
  {
   "cell_type": "code",
   "execution_count": 5,
   "metadata": {},
   "outputs": [
    {
     "data": {
      "text/html": [
       "<div>\n",
       "<style scoped>\n",
       "    .dataframe tbody tr th:only-of-type {\n",
       "        vertical-align: middle;\n",
       "    }\n",
       "\n",
       "    .dataframe tbody tr th {\n",
       "        vertical-align: top;\n",
       "    }\n",
       "\n",
       "    .dataframe thead th {\n",
       "        text-align: right;\n",
       "    }\n",
       "</style>\n",
       "<table border=\"1\" class=\"dataframe\">\n",
       "  <thead>\n",
       "    <tr style=\"text-align: right;\">\n",
       "      <th></th>\n",
       "      <th>amount_of_transactions</th>\n",
       "    </tr>\n",
       "    <tr>\n",
       "      <th>type</th>\n",
       "      <th></th>\n",
       "    </tr>\n",
       "  </thead>\n",
       "  <tbody>\n",
       "    <tr>\n",
       "      <th>CASH_IN</th>\n",
       "      <td>2.363674e+11</td>\n",
       "    </tr>\n",
       "    <tr>\n",
       "      <th>CASH_OUT</th>\n",
       "      <td>3.944130e+11</td>\n",
       "    </tr>\n",
       "    <tr>\n",
       "      <th>DEBIT</th>\n",
       "      <td>2.271992e+08</td>\n",
       "    </tr>\n",
       "    <tr>\n",
       "      <th>PAYMENT</th>\n",
       "      <td>2.809337e+10</td>\n",
       "    </tr>\n",
       "    <tr>\n",
       "      <th>TRANSFER</th>\n",
       "      <td>4.852920e+11</td>\n",
       "    </tr>\n",
       "  </tbody>\n",
       "</table>\n",
       "</div>"
      ],
      "text/plain": [
       "          amount_of_transactions\n",
       "type                            \n",
       "CASH_IN             2.363674e+11\n",
       "CASH_OUT            3.944130e+11\n",
       "DEBIT               2.271992e+08\n",
       "PAYMENT             2.809337e+10\n",
       "TRANSFER            4.852920e+11"
      ]
     },
     "execution_count": 5,
     "metadata": {},
     "output_type": "execute_result"
    }
   ],
   "source": [
    "aot=fund.groupby('type')[['amount']].sum() ##amount of transaction in each type\n",
    "aot.columns=['amount_of_transactions']\n",
    "aot\n"
   ]
  },
  {
   "cell_type": "markdown",
   "metadata": {},
   "source": [
    "In the below figure we can see that Transfer and Cash_out are responsible for most of the amount that is being\n",
    "transfered. But since Cash_out was one of the major type of transaction that was beiing used it fits perfectly \n",
    "however in the above figure we saw the Transfer was one of the least used type but it carries the most amount of money therefore there is higher chance of fraud being committed. "
   ]
  },
  {
   "cell_type": "code",
   "execution_count": 7,
   "metadata": {},
   "outputs": [
    {
     "data": {
      "text/plain": [
       "<matplotlib.axes._subplots.AxesSubplot at 0x7f017ef1b860>"
      ]
     },
     "execution_count": 7,
     "metadata": {},
     "output_type": "execute_result"
    },
    {
     "data": {
      "image/png": "[encoded data removed]",
      "text/plain": [
       "<Figure size 864x432 with 1 Axes>"
      ]
     },
     "metadata": {
      "needs_background": "light"
     },
     "output_type": "display_data"
    }
   ],
   "source": [
    "ax = aot.plot.bar(rot=0,figsize=(12,6))\n",
    "ax\n",
    "ax.figure.savefig(\"amount_of_transactions.jpg\")\n",
    "\n",
    "## This plot shows the amount of money involved in each transaction."
   ]
  },
  {
   "cell_type": "code",
   "execution_count": 8,
   "metadata": {},
   "outputs": [
    {
     "data": {
      "text/plain": [
       "amount    1.205642e+10\n",
       "dtype: float64"
      ]
     },
     "execution_count": 8,
     "metadata": {},
     "output_type": "execute_result"
    }
   ],
   "source": [
    "total_fraud_amount = fund[['amount']].where(fund['isFraud']==1,0).sum()\n",
    "total_fraud_amount"
   ]
  },
  {
   "cell_type": "code",
   "execution_count": 9,
   "metadata": {},
   "outputs": [
    {
     "data": {
      "text/plain": [
       "amount    1.132337e+12\n",
       "dtype: float64"
      ]
     },
     "execution_count": 9,
     "metadata": {},
     "output_type": "execute_result"
    }
   ],
   "source": [
    "total_legit_amount = fund[['amount']].where(fund['isFraud']==0,0).sum()\n",
    "total_legit_amount"
   ]
  },
  {
   "cell_type": "markdown",
   "metadata": {},
   "source": [
    "The below figure shows that the total amount of money involved in fraudulent transaction is very less as compared to the overall money involvedin the transaction."
   ]
  },
  {
   "cell_type": "code",
   "execution_count": 10,
   "metadata": {},
   "outputs": [
    {
     "data": {
      "text/plain": [
       "<matplotlib.legend.Legend at 0x7f017ee99cf8>"
      ]
     },
     "execution_count": 10,
     "metadata": {},
     "output_type": "execute_result"
    },
    {
     "data": {
      "image/png": "[encoded data removed]",
      "text/plain": [
       "<Figure size 864x468 with 1 Axes>"
      ]
     },
     "metadata": {},
     "output_type": "display_data"
    }
   ],
   "source": [
    "df={'total_fraud_amount':total_fraud_amount,'total_legit_amount':total_legit_amount}\n",
    "df = pd.DataFrame(data=df)\n",
    "df=df.T\n",
    "df\n",
    "pie_plot1=df.plot.pie(y='amount', figsize=(12,6.5))\n",
    "pie_plot1.yaxis.set_label_coords(-0.25, 0.5)\n",
    "pie_plot1.legend(loc=\"upper right\")\n",
    "pie_plot1.figure.savefig(\"fraud_vs_legit.jpg\")\n",
    "\n",
    "\n",
    "##This plot shows the difference between total fraud amount and legit amount."
   ]
  },
  {
   "cell_type": "markdown",
   "metadata": {},
   "source": [
    "The below figure shows that all the fraudulent transactions are happening in either Cash_out or Transfer types\n",
    "of transaction. In the previous figures we also saw that cash_out and transfer were also responsible for \n",
    "majority of amount being present in the transactions. This shows a direct co-relation. Higher the amount \n",
    "being handled by transaction type higher the chances of fraud."
   ]
  },
  {
   "cell_type": "code",
   "execution_count": 77,
   "metadata": {},
   "outputs": [
    {
     "data": {
      "text/plain": [
       "<matplotlib.legend.Legend at 0x7ff319e183c8>"
      ]
     },
     "execution_count": 77,
     "metadata": {},
     "output_type": "execute_result"
    },
    {
     "data": {
      "image/png": "[encoded data removed]",
      "text/plain": [
       "<Figure size 864x432 with 1 Axes>"
      ]
     },
     "metadata": {},
     "output_type": "display_data"
    }
   ],
   "source": [
    "number_of_fraud = fund.groupby('type')[['isFraud']].sum() ##number of fraud in each transaction\n",
    "number_of_fraud\n",
    "pie_plot2=number_of_fraud.plot.pie(y='isFraud', figsize=(12,6))\n",
    "pie_plot2.yaxis.set_label_coords(-0.15, 0.5)\n",
    "pie_plot2.legend(loc=\"upper right\")\n",
    "pie_plot2.figure.savefig(\"types_with_fraud_transactions.jpg\")\n",
    "\n",
    "##this plot shows which type of transaction has max amount of fraud."
   ]
  },
  {
   "cell_type": "code",
   "execution_count": 86,
   "metadata": {},
   "outputs": [
    {
     "data": {
      "text/html": [
       "<div>\n",
       "<style scoped>\n",
       "    .dataframe tbody tr th:only-of-type {\n",
       "        vertical-align: middle;\n",
       "    }\n",
       "\n",
       "    .dataframe tbody tr th {\n",
       "        vertical-align: top;\n",
       "    }\n",
       "\n",
       "    .dataframe thead th {\n",
       "        text-align: right;\n",
       "    }\n",
       "</style>\n",
       "<table border=\"1\" class=\"dataframe\">\n",
       "  <thead>\n",
       "    <tr style=\"text-align: right;\">\n",
       "      <th></th>\n",
       "      <th>isFlaggedFraud</th>\n",
       "    </tr>\n",
       "    <tr>\n",
       "      <th>type</th>\n",
       "      <th></th>\n",
       "    </tr>\n",
       "  </thead>\n",
       "  <tbody>\n",
       "    <tr>\n",
       "      <th>CASH_IN</th>\n",
       "      <td>0</td>\n",
       "    </tr>\n",
       "    <tr>\n",
       "      <th>CASH_OUT</th>\n",
       "      <td>0</td>\n",
       "    </tr>\n",
       "    <tr>\n",
       "      <th>DEBIT</th>\n",
       "      <td>0</td>\n",
       "    </tr>\n",
       "    <tr>\n",
       "      <th>PAYMENT</th>\n",
       "      <td>0</td>\n",
       "    </tr>\n",
       "    <tr>\n",
       "      <th>TRANSFER</th>\n",
       "      <td>16</td>\n",
       "    </tr>\n",
       "  </tbody>\n",
       "</table>\n",
       "</div>"
      ],
      "text/plain": [
       "          isFlaggedFraud\n",
       "type                    \n",
       "CASH_IN                0\n",
       "CASH_OUT               0\n",
       "DEBIT                  0\n",
       "PAYMENT                0\n",
       "TRANSFER              16"
      ]
     },
     "execution_count": 86,
     "metadata": {},
     "output_type": "execute_result"
    }
   ],
   "source": [
    "flagged_fraud = fund.groupby('type')[['isFlaggedFraud']].sum()## type with frequency of flagged\n",
    "flagged_fraud"
   ]
  },
  {
   "cell_type": "code",
   "execution_count": 87,
   "metadata": {},
   "outputs": [
    {
     "data": {
      "text/html": [
       "<div>\n",
       "<style scoped>\n",
       "    .dataframe tbody tr th:only-of-type {\n",
       "        vertical-align: middle;\n",
       "    }\n",
       "\n",
       "    .dataframe tbody tr th {\n",
       "        vertical-align: top;\n",
       "    }\n",
       "\n",
       "    .dataframe thead th {\n",
       "        text-align: right;\n",
       "    }\n",
       "</style>\n",
       "<table border=\"1\" class=\"dataframe\">\n",
       "  <thead>\n",
       "    <tr style=\"text-align: right;\">\n",
       "      <th></th>\n",
       "      <th>isFlaggedFraud</th>\n",
       "      <th>isFraud</th>\n",
       "    </tr>\n",
       "    <tr>\n",
       "      <th>type</th>\n",
       "      <th></th>\n",
       "      <th></th>\n",
       "    </tr>\n",
       "  </thead>\n",
       "  <tbody>\n",
       "    <tr>\n",
       "      <th>CASH_IN</th>\n",
       "      <td>0</td>\n",
       "      <td>0</td>\n",
       "    </tr>\n",
       "    <tr>\n",
       "      <th>CASH_OUT</th>\n",
       "      <td>0</td>\n",
       "      <td>4116</td>\n",
       "    </tr>\n",
       "    <tr>\n",
       "      <th>DEBIT</th>\n",
       "      <td>0</td>\n",
       "      <td>0</td>\n",
       "    </tr>\n",
       "    <tr>\n",
       "      <th>PAYMENT</th>\n",
       "      <td>0</td>\n",
       "      <td>0</td>\n",
       "    </tr>\n",
       "    <tr>\n",
       "      <th>TRANSFER</th>\n",
       "      <td>16</td>\n",
       "      <td>4097</td>\n",
       "    </tr>\n",
       "  </tbody>\n",
       "</table>\n",
       "</div>"
      ],
      "text/plain": [
       "          isFlaggedFraud  isFraud\n",
       "type                             \n",
       "CASH_IN                0        0\n",
       "CASH_OUT               0     4116\n",
       "DEBIT                  0        0\n",
       "PAYMENT                0        0\n",
       "TRANSFER              16     4097"
      ]
     },
     "execution_count": 87,
     "metadata": {},
     "output_type": "execute_result"
    }
   ],
   "source": [
    "flagged_real_ratio=pd.merge(flagged_fraud,number_of_fraud,how='right',left_on='type',right_on='type')\n",
    "flagged_real_ratio"
   ]
  },
  {
   "cell_type": "markdown",
   "metadata": {},
   "source": [
    "The figure below shows that of all the fraudulent transactions only a fraction is being flagged as fraud and all of which are in the transfer type of transaction. By focusing on catching fraud in this two types the prevention of fraud can be greatly improved."
   ]
  },
  {
   "cell_type": "code",
   "execution_count": 103,
   "metadata": {},
   "outputs": [
    {
     "data": {
      "text/plain": [
       "<matplotlib.axes._subplots.AxesSubplot at 0x7ff32e0bbf60>"
      ]
     },
     "execution_count": 103,
     "metadata": {},
     "output_type": "execute_result"
    },
    {
     "data": {
      "image/png": "[encoded data removed]",
      "text/plain": [
       "<Figure size 864x432 with 1 Axes>"
      ]
     },
     "metadata": {
      "needs_background": "light"
     },
     "output_type": "display_data"
    }
   ],
   "source": [
    "plot1 = flagged_real_ratio[[\"isFraud\", \"isFlaggedFraud\"]].plot(kind=\"bar\", stacked=True, figsize=(12,6),ylim=(0, 5000))\n",
    "plot1\n",
    "plot1.figure.savefig(\"fraud_vs_isFlagged.jpg\")\n",
    "\n",
    "## This plot shows that a very small amount of fraud is being flagged and that too only in transactions of type transfer.\n"
   ]
  },
  {
   "cell_type": "code",
   "execution_count": 4,
   "metadata": {},
   "outputs": [],
   "source": [
    "from sklearn.model_selection import train_test_split\n",
    "from sklearn.naive_bayes import GaussianNB\n",
    "from sklearn import metrics\n",
    "from sklearn.model_selection import train_test_split\n",
    "from sklearn.tree import DecisionTreeClassifier \n",
    "import collections, numpy\n",
    "from sklearn.metrics import confusion_matrix\n",
    "import matplotlib.pyplot as plt    \n",
    "import warnings\n",
    "warnings.filterwarnings('ignore')\n",
    "\n",
    "\n"
   ]
  },
  {
   "cell_type": "markdown",
   "metadata": {},
   "source": [
    "# Function to plot Confusion Matrix"
   ]
  },
  {
   "cell_type": "code",
   "execution_count": 5,
   "metadata": {},
   "outputs": [],
   "source": [
    "def confusionMatrix(y_test,y_pred,modelName):\n",
    "    labels = ['Fraud', 'Legit']\n",
    "    cm = confusion_matrix(y_test, y_pred,normalize='true')\n",
    "    print(cm)\n",
    "    fig = plt.figure(figsize=(12,7))\n",
    "    ax = fig.add_subplot(111)\n",
    "    cax = ax.matshow(cm)\n",
    "    plt.title('Confusion matrix of the classifier')\n",
    "    fig.colorbar(cax)\n",
    "    ax.set_xticklabels([''] + labels)\n",
    "    ax.set_yticklabels([''] + labels)\n",
    "    plt.xlabel('Predicted')\n",
    "    plt.ylabel('True')\n",
    "    plt.savefig(modelName)\n",
    "    plt.show()"
   ]
  },
  {
   "cell_type": "markdown",
   "metadata": {},
   "source": [
    "# Initial Pre-Processing of data"
   ]
  },
  {
   "cell_type": "code",
   "execution_count": 6,
   "metadata": {},
   "outputs": [],
   "source": [
    "Y=fund['isFraud']# taking isFraud column as target values\n",
    "X=fund.loc[:, fund.columns != 'isFraud'] # taking all columns from dataset except isFraud which is our target\n",
    "\n",
    "# changing the type to numbers based on the type of transaction\n",
    "X['type']=X['type'].replace({'CASH_IN':0,'CASH_OUT':1,'DEBIT':2,'PAYMENT':3,'TRANSFER':4})\n",
    "\n",
    "# Removing String characters from column of the dataset\n",
    "X['nameOrig']=X['nameOrig'].map(lambda x:x.lstrip('CM'))\n",
    "X['nameDest']=X['nameDest'].map(lambda x:x.lstrip('CM'))\n",
    "\n",
    "\n",
    "# using sklearn to split the dataset into 70% train and 30% test\n",
    "X_train, X_test, y_train, y_test = train_test_split(X, Y, test_size=0.3)\n"
   ]
  },
  {
   "cell_type": "markdown",
   "metadata": {},
   "source": [
    "# Prediction using Naive Bayes Algorithm"
   ]
  },
  {
   "cell_type": "code",
   "execution_count": 7,
   "metadata": {},
   "outputs": [
    {
     "name": "stdout",
     "output_type": "stream",
     "text": [
      "Accuracy: 0.9920441579097918\n"
     ]
    }
   ],
   "source": [
    "#initializing the model\n",
    "gnb = GaussianNB()\n",
    "\n",
    "#providing data to fit\n",
    "gnb.fit(X_train, y_train)\n",
    "\n",
    "#predicting based on the test which we already have\n",
    "y_pred = gnb.predict(X_test)\n",
    "print(\"Accuracy:\",metrics.accuracy_score(y_test, y_pred))"
   ]
  },
  {
   "cell_type": "markdown",
   "metadata": {},
   "source": [
    "Using the above classifier we are getting an accuracy of 99.28% this shows that our model is over-fitting. \n",
    "This prediction will work very nicely with the current dataset only and might give a very bad accuracy with \n",
    "other datasets. In order to solve this problem we need a greater number of fraud transactions in our datasets\n",
    "along with more number of overall transactions in our dataset. Also the result can be further improved by \n",
    "making the number of transaction of each type similar or closer to each other thereby removing the bias caused\n",
    "due to more number of particular type of transaction."
   ]
  },
  {
   "cell_type": "code",
   "execution_count": 8,
   "metadata": {},
   "outputs": [
    {
     "data": {
      "text/plain": [
       "Counter({0: 1895274, 1: 13512})"
      ]
     },
     "execution_count": 8,
     "metadata": {},
     "output_type": "execute_result"
    }
   ],
   "source": [
    "#number of 0 and 1's in the predicted result\n",
    "collections.Counter(y_pred)"
   ]
  },
  {
   "cell_type": "code",
   "execution_count": 9,
   "metadata": {},
   "outputs": [
    {
     "data": {
      "text/plain": [
       "Counter({0: 1906322, 1: 2464})"
      ]
     },
     "execution_count": 9,
     "metadata": {},
     "output_type": "execute_result"
    }
   ],
   "source": [
    "#number of 0 and 1's in the given dataset\n",
    "collections.Counter(y_test)"
   ]
  },
  {
   "cell_type": "markdown",
   "metadata": {},
   "source": [
    "The below confusion matrix shows that the classification model is able to correctly identify majority of the\n",
    "fraudulent transactions as fraud but it is also classifying a lot of legit transactions as fraud which is not\n",
    "correct. The amount of fraud being classified as legit and vice versa are on the lower end of spectrum."
   ]
  },
  {
   "cell_type": "code",
   "execution_count": 10,
   "metadata": {},
   "outputs": [
    {
     "name": "stdout",
     "output_type": "stream",
     "text": [
      "[[0.99311921 0.00688079]\n",
      " [0.83969156 0.16030844]]\n"
     ]
    },
    {
     "data": {
      "image/png": "[encoded data removed]",
      "text/plain": [
       "<Figure size 864x504 with 2 Axes>"
      ]
     },
     "metadata": {
      "needs_background": "light"
     },
     "output_type": "display_data"
    }
   ],
   "source": [
    "#plotting of confusion_matrix\n",
    "confusionMatrix(y_test,y_pred,\"naive_bayes.jpg\")"
   ]
  },
  {
   "cell_type": "markdown",
   "metadata": {},
   "source": [
    "\n",
    "# Prediction using Decision Tree Classifier "
   ]
  },
  {
   "cell_type": "code",
   "execution_count": 11,
   "metadata": {},
   "outputs": [
    {
     "name": "stdout",
     "output_type": "stream",
     "text": [
      "Accuracy: 0.9996730906450487\n"
     ]
    }
   ],
   "source": [
    "#similar process as naive bayes done just with different algorithm which is decision tree\n",
    "clf = DecisionTreeClassifier()\n",
    "clf = clf.fit(X_train,y_train)\n",
    "y_pred = clf.predict(X_test)\n",
    "print(\"Accuracy:\",metrics.accuracy_score(y_test, y_pred))"
   ]
  },
  {
   "cell_type": "markdown",
   "metadata": {},
   "source": [
    "By using Decision tree we are getting even better accuracy then before which is 99.96 which makes it worse \n",
    "than naive bayes since it is more overfitted than before. We can take similar measures as above to improve the \n",
    "overfitting problem."
   ]
  },
  {
   "cell_type": "code",
   "execution_count": 12,
   "metadata": {},
   "outputs": [
    {
     "data": {
      "text/plain": [
       "Counter({0: 1906408, 1: 2378})"
      ]
     },
     "execution_count": 12,
     "metadata": {},
     "output_type": "execute_result"
    }
   ],
   "source": [
    "collections.Counter(y_pred)"
   ]
  },
  {
   "cell_type": "code",
   "execution_count": 13,
   "metadata": {},
   "outputs": [
    {
     "data": {
      "text/plain": [
       "Counter({0: 1906322, 1: 2464})"
      ]
     },
     "execution_count": 13,
     "metadata": {},
     "output_type": "execute_result"
    }
   ],
   "source": [
    "collections.Counter(y_test)"
   ]
  },
  {
   "cell_type": "markdown",
   "metadata": {},
   "source": [
    "In the below confusion matrix we can see that the majority of fraud and legit transactions are being classified\n",
    "as they are also the classification of legit as fraud and vice versa is lower than that of naive bayes."
   ]
  },
  {
   "cell_type": "code",
   "execution_count": 15,
   "metadata": {},
   "outputs": [
    {
     "name": "stdout",
     "output_type": "stream",
     "text": [
      "[[9.99858891e-01 1.41109424e-04]\n",
      " [1.44074675e-01 8.55925325e-01]]\n"
     ]
    },
    {
     "data": {
      "image/png": "[encoded data removed]",
      "text/plain": [
       "<Figure size 864x504 with 2 Axes>"
      ]
     },
     "metadata": {
      "needs_background": "light"
     },
     "output_type": "display_data"
    }
   ],
   "source": [
    "confusionMatrix(y_test,y_pred,\"decision_tree.jpg\")"
   ]
  },
  {
   "cell_type": "markdown",
   "metadata": {},
   "source": [
    "We can further improve the prediction model by using Ensemble learning or ADA boost.\n"
   ]
  },
  {
   "cell_type": "code",
   "execution_count": null,
   "metadata": {},
   "outputs": [],
   "source": []
  }
 ],
 "metadata": {
  "kernelspec": {
   "display_name": "Python 3",
   "language": "python",
   "name": "python3"
  },
  "language_info": {
   "codemirror_mode": {
    "name": "ipython",
    "version": 3
   },
   "file_extension": ".py",
   "mimetype": "text/x-python",
   "name": "python",
   "nbconvert_exporter": "python",
   "pygments_lexer": "ipython3",
   "version": "3.5.2"
  }
 },
 "nbformat": 4,
 "nbformat_minor": 2
}
